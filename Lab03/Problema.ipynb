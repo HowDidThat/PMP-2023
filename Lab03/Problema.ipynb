{
 "cells": [
  {
   "cell_type": "code",
   "execution_count": 3,
   "metadata": {},
   "outputs": [
    {
     "ename": "ImportError",
     "evalue": "numpy.core.multiarray failed to import",
     "output_type": "error",
     "traceback": [
      "\u001b[1;31m---------------------------------------------------------------------------\u001b[0m",
      "\u001b[1;31mRuntimeError\u001b[0m                              Traceback (most recent call last)",
      "File \u001b[1;32m__init__.pxd:942\u001b[0m, in \u001b[0;36mnumpy.import_array\u001b[1;34m()\u001b[0m\n",
      "\u001b[1;31mRuntimeError\u001b[0m: module compiled against API version 0x10 but this version of numpy is 0xf . Check the section C-API incompatibility at the Troubleshooting ImportError section at https://numpy.org/devdocs/user/troubleshooting-importerror.html#c-api-incompatibility for indications on how to solve this problem .",
      "\nDuring handling of the above exception, another exception occurred:\n",
      "\u001b[1;31mImportError\u001b[0m                               Traceback (most recent call last)",
      "\u001b[1;32mc:\\Users\\doom\\Documents\\GitHub\\PMP-2023\\Lab03\\Problema.ipynb Cell 1\u001b[0m line \u001b[0;36m3\n\u001b[0;32m      <a href='vscode-notebook-cell:/c%3A/Users/doom/Documents/GitHub/PMP-2023/Lab03/Problema.ipynb#W0sZmlsZQ%3D%3D?line=0'>1</a>\u001b[0m \u001b[39mfrom\u001b[39;00m \u001b[39mpgmpy\u001b[39;00m\u001b[39m.\u001b[39;00m\u001b[39mmodels\u001b[39;00m \u001b[39mimport\u001b[39;00m BayesianNetwork\n\u001b[0;32m      <a href='vscode-notebook-cell:/c%3A/Users/doom/Documents/GitHub/PMP-2023/Lab03/Problema.ipynb#W0sZmlsZQ%3D%3D?line=1'>2</a>\u001b[0m \u001b[39mfrom\u001b[39;00m \u001b[39mpgmpy\u001b[39;00m\u001b[39m.\u001b[39;00m\u001b[39mfactors\u001b[39;00m\u001b[39m.\u001b[39;00m\u001b[39mdiscrete\u001b[39;00m \u001b[39mimport\u001b[39;00m TabularCPD\n\u001b[1;32m----> <a href='vscode-notebook-cell:/c%3A/Users/doom/Documents/GitHub/PMP-2023/Lab03/Problema.ipynb#W0sZmlsZQ%3D%3D?line=2'>3</a>\u001b[0m \u001b[39mfrom\u001b[39;00m \u001b[39mpgmpy\u001b[39;00m\u001b[39m.\u001b[39;00m\u001b[39minference\u001b[39;00m \u001b[39mimport\u001b[39;00m VariableElimination\n\u001b[0;32m      <a href='vscode-notebook-cell:/c%3A/Users/doom/Documents/GitHub/PMP-2023/Lab03/Problema.ipynb#W0sZmlsZQ%3D%3D?line=3'>4</a>\u001b[0m \u001b[39mimport\u001b[39;00m \u001b[39mmatplotlib\u001b[39;00m\u001b[39m.\u001b[39;00m\u001b[39mpyplot\u001b[39;00m \u001b[39mas\u001b[39;00m \u001b[39mplt\u001b[39;00m\n\u001b[0;32m      <a href='vscode-notebook-cell:/c%3A/Users/doom/Documents/GitHub/PMP-2023/Lab03/Problema.ipynb#W0sZmlsZQ%3D%3D?line=4'>5</a>\u001b[0m \u001b[39mimport\u001b[39;00m \u001b[39mnetworkx\u001b[39;00m \u001b[39mas\u001b[39;00m \u001b[39mnx\u001b[39;00m\n",
      "File \u001b[1;32mc:\\Users\\doom\\AppData\\Local\\Programs\\Python\\Python310\\lib\\site-packages\\pgmpy\\inference\\__init__.py:2\u001b[0m\n\u001b[0;32m      1\u001b[0m \u001b[39mfrom\u001b[39;00m \u001b[39m.\u001b[39;00m\u001b[39mbase\u001b[39;00m \u001b[39mimport\u001b[39;00m Inference\n\u001b[1;32m----> 2\u001b[0m \u001b[39mfrom\u001b[39;00m \u001b[39m.\u001b[39;00m\u001b[39mCausalInference\u001b[39;00m \u001b[39mimport\u001b[39;00m CausalInference\n\u001b[0;32m      3\u001b[0m \u001b[39mfrom\u001b[39;00m \u001b[39m.\u001b[39;00m\u001b[39mExactInference\u001b[39;00m \u001b[39mimport\u001b[39;00m BeliefPropagation\n\u001b[0;32m      4\u001b[0m \u001b[39mfrom\u001b[39;00m \u001b[39m.\u001b[39;00m\u001b[39mExactInference\u001b[39;00m \u001b[39mimport\u001b[39;00m VariableElimination\n",
      "File \u001b[1;32mc:\\Users\\doom\\AppData\\Local\\Programs\\Python\\Python310\\lib\\site-packages\\pgmpy\\inference\\CausalInference.py:9\u001b[0m\n\u001b[0;32m      6\u001b[0m \u001b[39mfrom\u001b[39;00m \u001b[39mtqdm\u001b[39;00m\u001b[39m.\u001b[39;00m\u001b[39mauto\u001b[39;00m \u001b[39mimport\u001b[39;00m tqdm\n\u001b[0;32m      8\u001b[0m \u001b[39mfrom\u001b[39;00m \u001b[39mpgmpy\u001b[39;00m \u001b[39mimport\u001b[39;00m config\n\u001b[1;32m----> 9\u001b[0m \u001b[39mfrom\u001b[39;00m \u001b[39mpgmpy\u001b[39;00m\u001b[39m.\u001b[39;00m\u001b[39mestimators\u001b[39;00m\u001b[39m.\u001b[39;00m\u001b[39mLinearModel\u001b[39;00m \u001b[39mimport\u001b[39;00m LinearEstimator\n\u001b[0;32m     10\u001b[0m \u001b[39mfrom\u001b[39;00m \u001b[39mpgmpy\u001b[39;00m\u001b[39m.\u001b[39;00m\u001b[39mfactors\u001b[39;00m\u001b[39m.\u001b[39;00m\u001b[39mdiscrete\u001b[39;00m \u001b[39mimport\u001b[39;00m DiscreteFactor\n\u001b[0;32m     11\u001b[0m \u001b[39mfrom\u001b[39;00m \u001b[39mpgmpy\u001b[39;00m\u001b[39m.\u001b[39;00m\u001b[39mmodels\u001b[39;00m \u001b[39mimport\u001b[39;00m BayesianNetwork\n",
      "File \u001b[1;32mc:\\Users\\doom\\AppData\\Local\\Programs\\Python\\Python310\\lib\\site-packages\\pgmpy\\estimators\\__init__.py:15\u001b[0m\n\u001b[0;32m     13\u001b[0m \u001b[39mfrom\u001b[39;00m \u001b[39mpgmpy\u001b[39;00m\u001b[39m.\u001b[39;00m\u001b[39mestimators\u001b[39;00m\u001b[39m.\u001b[39;00m\u001b[39mHillClimbSearch\u001b[39;00m \u001b[39mimport\u001b[39;00m HillClimbSearch\n\u001b[0;32m     14\u001b[0m \u001b[39mfrom\u001b[39;00m \u001b[39mpgmpy\u001b[39;00m\u001b[39m.\u001b[39;00m\u001b[39mestimators\u001b[39;00m\u001b[39m.\u001b[39;00m\u001b[39mTreeSearch\u001b[39;00m \u001b[39mimport\u001b[39;00m TreeSearch\n\u001b[1;32m---> 15\u001b[0m \u001b[39mfrom\u001b[39;00m \u001b[39mpgmpy\u001b[39;00m\u001b[39m.\u001b[39;00m\u001b[39mestimators\u001b[39;00m\u001b[39m.\u001b[39;00m\u001b[39mSEMEstimator\u001b[39;00m \u001b[39mimport\u001b[39;00m SEMEstimator, IVEstimator\n\u001b[0;32m     16\u001b[0m \u001b[39mfrom\u001b[39;00m \u001b[39mpgmpy\u001b[39;00m\u001b[39m.\u001b[39;00m\u001b[39mestimators\u001b[39;00m\u001b[39m.\u001b[39;00m\u001b[39mScoreCache\u001b[39;00m \u001b[39mimport\u001b[39;00m ScoreCache\n\u001b[0;32m     17\u001b[0m \u001b[39mfrom\u001b[39;00m \u001b[39mpgmpy\u001b[39;00m\u001b[39m.\u001b[39;00m\u001b[39mestimators\u001b[39;00m\u001b[39m.\u001b[39;00m\u001b[39mMmhcEstimator\u001b[39;00m \u001b[39mimport\u001b[39;00m MmhcEstimator\n",
      "File \u001b[1;32mc:\\Users\\doom\\AppData\\Local\\Programs\\Python\\Python310\\lib\\site-packages\\pgmpy\\estimators\\SEMEstimator.py:3\u001b[0m\n\u001b[0;32m      1\u001b[0m \u001b[39mimport\u001b[39;00m \u001b[39mnumpy\u001b[39;00m \u001b[39mas\u001b[39;00m \u001b[39mnp\u001b[39;00m\n\u001b[0;32m      2\u001b[0m \u001b[39mimport\u001b[39;00m \u001b[39mpandas\u001b[39;00m \u001b[39mas\u001b[39;00m \u001b[39mpd\u001b[39;00m\n\u001b[1;32m----> 3\u001b[0m \u001b[39mimport\u001b[39;00m \u001b[39mstatsmodels\u001b[39;00m\u001b[39m.\u001b[39;00m\u001b[39mapi\u001b[39;00m \u001b[39mas\u001b[39;00m \u001b[39msm\u001b[39;00m\n\u001b[0;32m      4\u001b[0m \u001b[39mimport\u001b[39;00m \u001b[39mtorch\u001b[39;00m\n\u001b[0;32m      6\u001b[0m \u001b[39mfrom\u001b[39;00m \u001b[39mpgmpy\u001b[39;00m \u001b[39mimport\u001b[39;00m config\n",
      "File \u001b[1;32mc:\\Users\\doom\\AppData\\Local\\Programs\\Python\\Python310\\lib\\site-packages\\statsmodels\\api.py:125\u001b[0m\n\u001b[0;32m    114\u001b[0m \u001b[39mfrom\u001b[39;00m \u001b[39m.\u001b[39;00m\u001b[39mgenmod\u001b[39;00m \u001b[39mimport\u001b[39;00m api \u001b[39mas\u001b[39;00m genmod\n\u001b[0;32m    115\u001b[0m \u001b[39mfrom\u001b[39;00m \u001b[39m.\u001b[39;00m\u001b[39mgenmod\u001b[39;00m\u001b[39m.\u001b[39;00m\u001b[39mapi\u001b[39;00m \u001b[39mimport\u001b[39;00m (\n\u001b[0;32m    116\u001b[0m     GEE,\n\u001b[0;32m    117\u001b[0m     GLM,\n\u001b[1;32m   (...)\u001b[0m\n\u001b[0;32m    123\u001b[0m     families,\n\u001b[0;32m    124\u001b[0m )\n\u001b[1;32m--> 125\u001b[0m \u001b[39mfrom\u001b[39;00m \u001b[39m.\u001b[39;00m\u001b[39mgraphics\u001b[39;00m \u001b[39mimport\u001b[39;00m api \u001b[39mas\u001b[39;00m graphics\n\u001b[0;32m    126\u001b[0m \u001b[39mfrom\u001b[39;00m \u001b[39m.\u001b[39;00m\u001b[39mgraphics\u001b[39;00m\u001b[39m.\u001b[39;00m\u001b[39mgofplots\u001b[39;00m \u001b[39mimport\u001b[39;00m ProbPlot, qqline, qqplot, qqplot_2samples\n\u001b[0;32m    127\u001b[0m \u001b[39mfrom\u001b[39;00m \u001b[39m.\u001b[39;00m\u001b[39mimputation\u001b[39;00m\u001b[39m.\u001b[39;00m\u001b[39mbayes_mi\u001b[39;00m \u001b[39mimport\u001b[39;00m MI, BayesGaussMI\n",
      "File \u001b[1;32mc:\\Users\\doom\\AppData\\Local\\Programs\\Python\\Python310\\lib\\site-packages\\statsmodels\\graphics\\api.py:9\u001b[0m\n\u001b[0;32m      7\u001b[0m \u001b[39mfrom\u001b[39;00m \u001b[39m.\u001b[39;00m\u001b[39mgofplots\u001b[39;00m \u001b[39mimport\u001b[39;00m qqplot\n\u001b[0;32m      8\u001b[0m \u001b[39mfrom\u001b[39;00m \u001b[39m.\u001b[39;00m\u001b[39mplottools\u001b[39;00m \u001b[39mimport\u001b[39;00m rainbow\n\u001b[1;32m----> 9\u001b[0m \u001b[39mfrom\u001b[39;00m \u001b[39m.\u001b[39;00m\u001b[39mregressionplots\u001b[39;00m \u001b[39mimport\u001b[39;00m (\n\u001b[0;32m     10\u001b[0m     abline_plot,\n\u001b[0;32m     11\u001b[0m     influence_plot,\n\u001b[0;32m     12\u001b[0m     plot_ccpr,\n\u001b[0;32m     13\u001b[0m     plot_ccpr_grid,\n\u001b[0;32m     14\u001b[0m     plot_fit,\n\u001b[0;32m     15\u001b[0m     plot_leverage_resid2,\n\u001b[0;32m     16\u001b[0m     plot_partregress,\n\u001b[0;32m     17\u001b[0m     plot_partregress_grid,\n\u001b[0;32m     18\u001b[0m     plot_regress_exog,\n\u001b[0;32m     19\u001b[0m )\n\u001b[0;32m     21\u001b[0m __all__ \u001b[39m=\u001b[39m [\n\u001b[0;32m     22\u001b[0m     \u001b[39m\"\u001b[39m\u001b[39mabline_plot\u001b[39m\u001b[39m\"\u001b[39m,\n\u001b[0;32m     23\u001b[0m     \u001b[39m\"\u001b[39m\u001b[39mbeanplot\u001b[39m\u001b[39m\"\u001b[39m,\n\u001b[1;32m   (...)\u001b[0m\n\u001b[0;32m     42\u001b[0m     \u001b[39m\"\u001b[39m\u001b[39mviolinplot\u001b[39m\u001b[39m\"\u001b[39m,\n\u001b[0;32m     43\u001b[0m ]\n",
      "File \u001b[1;32mc:\\Users\\doom\\AppData\\Local\\Programs\\Python\\Python310\\lib\\site-packages\\statsmodels\\graphics\\regressionplots.py:23\u001b[0m\n\u001b[0;32m     21\u001b[0m \u001b[39mfrom\u001b[39;00m \u001b[39mstatsmodels\u001b[39;00m\u001b[39m.\u001b[39;00m\u001b[39mgenmod\u001b[39;00m\u001b[39m.\u001b[39;00m\u001b[39mgeneralized_linear_model\u001b[39;00m \u001b[39mimport\u001b[39;00m GLM\n\u001b[0;32m     22\u001b[0m \u001b[39mfrom\u001b[39;00m \u001b[39mstatsmodels\u001b[39;00m\u001b[39m.\u001b[39;00m\u001b[39mgraphics\u001b[39;00m \u001b[39mimport\u001b[39;00m utils\n\u001b[1;32m---> 23\u001b[0m \u001b[39mfrom\u001b[39;00m \u001b[39mstatsmodels\u001b[39;00m\u001b[39m.\u001b[39;00m\u001b[39mnonparametric\u001b[39;00m\u001b[39m.\u001b[39;00m\u001b[39msmoothers_lowess\u001b[39;00m \u001b[39mimport\u001b[39;00m lowess\n\u001b[0;32m     24\u001b[0m \u001b[39mfrom\u001b[39;00m \u001b[39mstatsmodels\u001b[39;00m\u001b[39m.\u001b[39;00m\u001b[39mregression\u001b[39;00m\u001b[39m.\u001b[39;00m\u001b[39mlinear_model\u001b[39;00m \u001b[39mimport\u001b[39;00m GLS, OLS, WLS\n\u001b[0;32m     25\u001b[0m \u001b[39mfrom\u001b[39;00m \u001b[39mstatsmodels\u001b[39;00m\u001b[39m.\u001b[39;00m\u001b[39msandbox\u001b[39;00m\u001b[39m.\u001b[39;00m\u001b[39mregression\u001b[39;00m\u001b[39m.\u001b[39;00m\u001b[39mpredstd\u001b[39;00m \u001b[39mimport\u001b[39;00m wls_prediction_std\n",
      "File \u001b[1;32mc:\\Users\\doom\\AppData\\Local\\Programs\\Python\\Python310\\lib\\site-packages\\statsmodels\\nonparametric\\smoothers_lowess.py:11\u001b[0m\n\u001b[0;32m      2\u001b[0m \u001b[39m\"\"\"Lowess - wrapper for cythonized extension\u001b[39;00m\n\u001b[0;32m      3\u001b[0m \n\u001b[0;32m      4\u001b[0m \u001b[39mAuthor : Chris Jordan-Squire\u001b[39;00m\n\u001b[1;32m   (...)\u001b[0m\n\u001b[0;32m      7\u001b[0m \n\u001b[0;32m      8\u001b[0m \u001b[39m\"\"\"\u001b[39;00m\n\u001b[0;32m     10\u001b[0m \u001b[39mimport\u001b[39;00m \u001b[39mnumpy\u001b[39;00m \u001b[39mas\u001b[39;00m \u001b[39mnp\u001b[39;00m\n\u001b[1;32m---> 11\u001b[0m \u001b[39mfrom\u001b[39;00m \u001b[39m.\u001b[39;00m\u001b[39m_smoothers_lowess\u001b[39;00m \u001b[39mimport\u001b[39;00m lowess \u001b[39mas\u001b[39;00m _lowess\n\u001b[0;32m     13\u001b[0m \u001b[39mdef\u001b[39;00m \u001b[39mlowess\u001b[39m(endog, exog, frac\u001b[39m=\u001b[39m\u001b[39m2.0\u001b[39m\u001b[39m/\u001b[39m\u001b[39m3.0\u001b[39m, it\u001b[39m=\u001b[39m\u001b[39m3\u001b[39m, delta\u001b[39m=\u001b[39m\u001b[39m0.0\u001b[39m, xvals\u001b[39m=\u001b[39m\u001b[39mNone\u001b[39;00m, is_sorted\u001b[39m=\u001b[39m\u001b[39mFalse\u001b[39;00m,\n\u001b[0;32m     14\u001b[0m            missing\u001b[39m=\u001b[39m\u001b[39m'\u001b[39m\u001b[39mdrop\u001b[39m\u001b[39m'\u001b[39m, return_sorted\u001b[39m=\u001b[39m\u001b[39mTrue\u001b[39;00m):\n\u001b[0;32m     15\u001b[0m \u001b[39m    \u001b[39m\u001b[39m'''LOWESS (Locally Weighted Scatterplot Smoothing)\u001b[39;00m\n\u001b[0;32m     16\u001b[0m \n\u001b[0;32m     17\u001b[0m \u001b[39m    A lowess function that outs smoothed estimates of endog\u001b[39;00m\n\u001b[1;32m   (...)\u001b[0m\n\u001b[0;32m    135\u001b[0m \n\u001b[0;32m    136\u001b[0m \u001b[39m    '''\u001b[39;00m\n",
      "File \u001b[1;32mstatsmodels\\nonparametric\\_smoothers_lowess.pyx:22\u001b[0m, in \u001b[0;36minit statsmodels.nonparametric._smoothers_lowess\u001b[1;34m()\u001b[0m\n",
      "File \u001b[1;32m__init__.pxd:944\u001b[0m, in \u001b[0;36mnumpy.import_array\u001b[1;34m()\u001b[0m\n",
      "\u001b[1;31mImportError\u001b[0m: numpy.core.multiarray failed to import"
     ]
    }
   ],
   "source": [
    "from pgmpy.models import BayesianNetwork\n",
    "from pgmpy.factors.discrete import TabularCPD\n",
    "from pgmpy.inference import VariableElimination\n",
    "import matplotlib.pyplot as plt\n",
    "import networkx as nx"
   ]
  },
  {
   "cell_type": "code",
   "execution_count": 6,
   "metadata": {},
   "outputs": [],
   "source": [
    "model = BayesianNetwork([('I','A'),('C','A'),('C','I')])\n",
    "cpd_c = TabularCPD(variable='C', variable_card = 2, values=[[0.9905],[0.0005]])\n",
    "cpd_i = TabularCPD(variable='I', variable_card = 2, values=[[0.99,0.97],[0.01,0.03]], evidence=['C'],evidence_card=[2])\n",
    "cpd_a = TabularCPD(variable='A', variable_card = 2, values= [[0.9999,0.05,0.98,0.02],\n",
    "                                                             [0.0001,0.95,0.02,0.98]], evidence=['I','C'],evidence_card=[2,2])\n",
    "\n",
    "model.add_cpds(cpd_c,cpd_i,cpd_a)\n"
   ]
  },
  {
   "cell_type": "code",
   "execution_count": 7,
   "metadata": {},
   "outputs": [],
   "source": [
    "assert model.check_model()"
   ]
  },
  {
   "cell_type": "code",
   "execution_count": null,
   "metadata": {},
   "outputs": [],
   "source": [
    "inference = VariableElimination(model)\n",
    "\n",
    "# Ex 2:\n",
    "\n",
    "print(inference.query(variables=['C'],evidence={'A':1}))\n",
    "\n",
    "# Ex 3:\n",
    "\n",
    "print(inference.query(variables=['I'],evidence={'A':0}))"
   ]
  }
 ],
 "metadata": {
  "kernelspec": {
   "display_name": "Python 3",
   "language": "python",
   "name": "python3"
  },
  "language_info": {
   "codemirror_mode": {
    "name": "ipython",
    "version": 3
   },
   "file_extension": ".py",
   "mimetype": "text/x-python",
   "name": "python",
   "nbconvert_exporter": "python",
   "pygments_lexer": "ipython3",
   "version": "3.10.11"
  }
 },
 "nbformat": 4,
 "nbformat_minor": 2
}
