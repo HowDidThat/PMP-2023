{
 "cells": [
  {
   "cell_type": "code",
   "execution_count": 1,
   "metadata": {},
   "outputs": [
    {
     "name": "stderr",
     "output_type": "stream",
     "text": [
      "c:\\Users\\doom\\AppData\\Local\\Programs\\Python\\Python310\\lib\\site-packages\\tqdm\\auto.py:21: TqdmWarning: IProgress not found. Please update jupyter and ipywidgets. See https://ipywidgets.readthedocs.io/en/stable/user_install.html\n",
      "  from .autonotebook import tqdm as notebook_tqdm\n"
     ]
    }
   ],
   "source": [
    "from pgmpy.models import BayesianNetwork\n",
    "from pgmpy.factors.discrete import TabularCPD\n",
    "from pgmpy.inference import VariableElimination\n",
    "import matplotlib.pyplot as plt\n",
    "import networkx as nx"
   ]
  },
  {
   "cell_type": "code",
   "execution_count": 6,
   "metadata": {},
   "outputs": [],
   "source": [
    "model = BayesianNetwork([('I','A'),('C','A'),('C','I')])\n",
    "cpd_c = TabularCPD(variable='C', variable_card = 2, values=[[0.9905],[0.0005]])\n",
    "cpd_i = TabularCPD(variable='I', variable_card = 2, values=[[0.99,0.97],[0.01,0.03]], evidence=['C'],evidence_card=[2])\n",
    "cpd_a = TabularCPD(variable='A', variable_card = 2, values= [[0.9999,0.05,0.98,0.02],\n",
    "                                                             [0.0001,0.95,0.02,0.98]], evidence=['I','C'],evidence_card=[2,2])\n",
    "\n",
    "model.add_cpds(cpd_c,cpd_i,cpd_a)\n"
   ]
  },
  {
   "cell_type": "code",
   "execution_count": 7,
   "metadata": {},
   "outputs": [],
   "source": [
    "assert model.check_model()"
   ]
  },
  {
   "cell_type": "code",
   "execution_count": 9,
   "metadata": {},
   "outputs": [
    {
     "name": "stdout",
     "output_type": "stream",
     "text": [
      "+------+----------+\n",
      "| C    |   phi(C) |\n",
      "+======+==========+\n",
      "| C(0) |   0.3838 |\n",
      "+------+----------+\n",
      "| C(1) |   0.6162 |\n",
      "+------+----------+\n",
      "+------+----------+\n",
      "| I    |   phi(I) |\n",
      "+======+==========+\n",
      "| I(0) |   0.9902 |\n",
      "+------+----------+\n",
      "| I(1) |   0.0098 |\n",
      "+------+----------+\n"
     ]
    }
   ],
   "source": [
    "inference = VariableElimination(model)\n",
    "\n",
    "# Ex 2:\n",
    "\n",
    "print(inference.query(variables=['C'],evidence={'A':1}))\n",
    "\n",
    "# Ex 3:\n",
    "\n",
    "print(inference.query(variables=['I'],evidence={'A':0}))"
   ]
  }
 ],
 "metadata": {
  "kernelspec": {
   "display_name": "Python 3",
   "language": "python",
   "name": "python3"
  },
  "language_info": {
   "codemirror_mode": {
    "name": "ipython",
    "version": 3
   },
   "file_extension": ".py",
   "mimetype": "text/x-python",
   "name": "python",
   "nbconvert_exporter": "python",
   "pygments_lexer": "ipython3",
   "version": "3.10.11"
  }
 },
 "nbformat": 4,
 "nbformat_minor": 2
}
